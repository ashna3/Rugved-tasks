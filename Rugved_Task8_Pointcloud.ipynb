{
 "cells": [
  {
   "cell_type": "markdown",
   "id": "8ea50621-0089-4aef-ade2-09f36e515a37",
   "metadata": {},
   "source": [
    "# Rugved Task 8-Pointcloud using Open3D"
   ]
  },
  {
   "cell_type": "code",
   "execution_count": 37,
   "id": "7962afa5-c95c-4924-be08-b02b294eb2ad",
   "metadata": {},
   "outputs": [
    {
     "name": "stdout",
     "output_type": "stream",
     "text": [
      "✅ Detected 50 clusters.\n"
     ]
    }
   ],
   "source": [
    "import open3d as o3d\n",
    "import numpy as np\n",
    "\n",
    "# Load RGB-D image and create point cloud\n",
    "def load_point_cloud(rgb_path, depth_path, intrinsic):\n",
    "    rgb_image = o3d.io.read_image(rgb_path)\n",
    "    depth_image = o3d.io.read_image(depth_path)\n",
    "\n",
    "    rgbd_image = o3d.geometry.RGBDImage.create_from_color_and_depth(\n",
    "        rgb_image, depth_image, depth_scale=1000.0, depth_trunc=3.0, convert_rgb_to_intensity=False\n",
    "    )\n",
    "\n",
    "    pcd = o3d.geometry.PointCloud.create_from_rgbd_image(rgbd_image, intrinsic)\n",
    "    return pcd\n",
    "\n",
    "# **Slicing: Remove points below a certain height (desk surface)**\n",
    "def slice_point_cloud(pcd, height_threshold=0.5):\n",
    "    points = np.asarray(pcd.points)\n",
    "    colors = np.asarray(pcd.colors)\n",
    "\n",
    "    mask = points[:, 1] > height_threshold  # Keep points above the threshold\n",
    "    pcd.points = o3d.utility.Vector3dVector(points[mask])\n",
    "    pcd.colors = o3d.utility.Vector3dVector(colors[mask])\n",
    "\n",
    "    return pcd\n",
    "\n",
    "# **Object Detection using DBSCAN**\n",
    "def detect_objects(pcd, eps=0.02, min_points=20):\n",
    "    labels = np.array(pcd.cluster_dbscan(eps=eps, min_points=min_points, print_progress=True))\n",
    "    \n",
    "    if labels.size == 0:\n",
    "        print(\"⚠️ No clusters found. Try increasing eps or decreasing min_points.\")\n",
    "        return pcd, labels\n",
    "\n",
    "    max_label = labels.max()\n",
    "    print(f\"✅ Detected {max_label + 1} clusters.\")\n",
    "\n",
    "    # **Assign unique colors per cluster**\n",
    "    colors = np.random.rand(max_label + 1, 3)  # Generate random colors\n",
    "    colored_points = np.array(pcd.colors)\n",
    "\n",
    "    for i in range(len(labels)):\n",
    "        if labels[i] != -1:  # Ignore noise points (-1)\n",
    "            colored_points[i] = colors[labels[i]]\n",
    "\n",
    "    pcd.colors = o3d.utility.Vector3dVector(colored_points)  # Apply new colors\n",
    "\n",
    "    return pcd, labels\n",
    "\n",
    "# **Bounding Boxes for Detected Objects**\n",
    "def add_bounding_boxes(pcd, labels):\n",
    "    objects = []\n",
    "    for i in range(labels.max() + 1):  # Iterate over detected clusters\n",
    "        cluster_indices = np.where(labels == i)[0]\n",
    "        if len(cluster_indices) == 0:\n",
    "            continue  # Skip empty clusters\n",
    "\n",
    "        cluster_pcd = pcd.select_by_index(cluster_indices)  # Extract cluster points\n",
    "        aabb = cluster_pcd.get_axis_aligned_bounding_box()  # Compute AABB (bounding box)\n",
    "        aabb.color = (1, 0, 0)  # Red color for bounding boxes\n",
    "        objects.append(aabb)\n",
    "\n",
    "    return objects\n",
    "\n",
    "# **Define camera intrinsic parameters**\n",
    "intrinsic = o3d.camera.PinholeCameraIntrinsic(width=640, height=480, fx=525.0, fy=525.0, cx=319.5, cy=239.5)\n",
    "\n",
    "# **Example file paths (replace with your actual file paths)**\n",
    "rgb_path = r\"C:\\Users\\ashna\\desk_2_1.png\"\n",
    "depth_path = r\"C:\\Users\\ashna\\desk_2_1_depth.png\"\n",
    "\n",
    "# **Load and process point cloud**\n",
    "pcd = load_point_cloud(rgb_path, depth_path, intrinsic)\n",
    "pcd_sliced = slice_point_cloud(pcd, height_threshold=0.5)  # Remove the desk\n",
    "pcd_with_clusters, labels = detect_objects(pcd_sliced, eps=0.005, min_points=10)\n",
    "\n",
    "# **Generate Bounding Boxes for Clusters**\n",
    "bounding_boxes = add_bounding_boxes(pcd_sliced, labels)\n",
    "\n",
    "# **Visualize: Original vs Processed**\n",
    "o3d.visualization.draw_geometries([pcd], window_name=\"Original Point Cloud\")\n",
    "o3d.visualization.draw_geometries([pcd_with_clusters, *bounding_boxes], window_name=\"Segmented Objects with Bounding Boxes\")\n"
   ]
  },
  {
   "cell_type": "code",
   "execution_count": null,
   "id": "4856edc6-e457-4aa4-9d99-ab2db0099ee4",
   "metadata": {},
   "outputs": [],
   "source": []
  }
 ],
 "metadata": {
  "kernelspec": {
   "display_name": "Python [conda env:base] *",
   "language": "python",
   "name": "conda-base-py"
  },
  "language_info": {
   "codemirror_mode": {
    "name": "ipython",
    "version": 3
   },
   "file_extension": ".py",
   "mimetype": "text/x-python",
   "name": "python",
   "nbconvert_exporter": "python",
   "pygments_lexer": "ipython3",
   "version": "3.12.7"
  }
 },
 "nbformat": 4,
 "nbformat_minor": 5
}
